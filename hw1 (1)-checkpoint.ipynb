{
 "cells": [
  {
   "cell_type": "markdown",
   "metadata": {},
   "source": [
    "# Identify:\n",
    "\n",
    "Please fill-in your ID in the following cell, **only id numbers, no names!**\n"
   ]
  },
  {
   "cell_type": "code",
   "execution_count": 1,
   "metadata": {},
   "outputs": [],
   "source": [
    "id1 = \"319134193\""
   ]
  },
  {
   "cell_type": "code",
   "execution_count": 2,
   "metadata": {},
   "outputs": [],
   "source": [
    "import pandas as pd\n",
    "import numpy as np"
   ]
  },
  {
   "cell_type": "code",
   "execution_count": 3,
   "metadata": {},
   "outputs": [],
   "source": [
    "df = pd.DataFrame([id1])"
   ]
  },
  {
   "cell_type": "markdown",
   "metadata": {},
   "source": [
    "Uncomment in case two students are doing the assignment together:"
   ]
  },
  {
   "cell_type": "code",
   "execution_count": 4,
   "metadata": {},
   "outputs": [],
   "source": [
    "#df = pd.DataFrame([id1,id2])"
   ]
  },
  {
   "cell_type": "code",
   "execution_count": 5,
   "metadata": {},
   "outputs": [],
   "source": [
    "df.to_clipboard(index=False,header=False)"
   ]
  },
  {
   "cell_type": "markdown",
   "metadata": {},
   "source": [
    "Please fill your names here:"
   ]
  },
  {
   "cell_type": "markdown",
   "metadata": {},
   "source": [
    "Yaniv Ratzon"
   ]
  },
  {
   "cell_type": "markdown",
   "metadata": {},
   "source": [
    "---"
   ]
  },
  {
   "cell_type": "markdown",
   "metadata": {},
   "source": [
    "----"
   ]
  },
  {
   "cell_type": "markdown",
   "metadata": {},
   "source": [
    "# Write your answers here\n",
    "\n",
    "add as much lines of code and markdown as you need for each answer"
   ]
  },
  {
   "cell_type": "markdown",
   "metadata": {},
   "source": [
    "# Q1 "
   ]
  },
  {
   "cell_type": "code",
   "execution_count": 6,
   "metadata": {},
   "outputs": [],
   "source": [
    " url='https://raw.githubusercontent.com/owid/covid-19-data/master/public/data/vaccinations/vaccinations.csv'\n",
    "vacc_df=pd.read_csv(url)"
   ]
  },
  {
   "cell_type": "code",
   "execution_count": 7,
   "metadata": {},
   "outputs": [
    {
     "data": {
      "text/html": [
       "<div>\n",
       "<style scoped>\n",
       "    .dataframe tbody tr th:only-of-type {\n",
       "        vertical-align: middle;\n",
       "    }\n",
       "\n",
       "    .dataframe tbody tr th {\n",
       "        vertical-align: top;\n",
       "    }\n",
       "\n",
       "    .dataframe thead th {\n",
       "        text-align: right;\n",
       "    }\n",
       "</style>\n",
       "<table border=\"1\" class=\"dataframe\">\n",
       "  <thead>\n",
       "    <tr style=\"text-align: right;\">\n",
       "      <th></th>\n",
       "      <th>location</th>\n",
       "      <th>iso_code</th>\n",
       "      <th>date</th>\n",
       "      <th>total_vaccinations</th>\n",
       "      <th>people_vaccinated</th>\n",
       "      <th>people_fully_vaccinated</th>\n",
       "      <th>total_boosters</th>\n",
       "      <th>daily_vaccinations_raw</th>\n",
       "      <th>daily_vaccinations</th>\n",
       "      <th>total_vaccinations_per_hundred</th>\n",
       "      <th>people_vaccinated_per_hundred</th>\n",
       "      <th>people_fully_vaccinated_per_hundred</th>\n",
       "      <th>total_boosters_per_hundred</th>\n",
       "      <th>daily_vaccinations_per_million</th>\n",
       "      <th>month</th>\n",
       "    </tr>\n",
       "  </thead>\n",
       "  <tbody>\n",
       "    <tr>\n",
       "      <th>7</th>\n",
       "      <td>Afghanistan</td>\n",
       "      <td>AFG</td>\n",
       "      <td>2021-03-01</td>\n",
       "      <td>NaN</td>\n",
       "      <td>NaN</td>\n",
       "      <td>NaN</td>\n",
       "      <td>NaN</td>\n",
       "      <td>NaN</td>\n",
       "      <td>1580.0</td>\n",
       "      <td>NaN</td>\n",
       "      <td>NaN</td>\n",
       "      <td>NaN</td>\n",
       "      <td>NaN</td>\n",
       "      <td>41.0</td>\n",
       "      <td>3</td>\n",
       "    </tr>\n",
       "    <tr>\n",
       "      <th>8</th>\n",
       "      <td>Afghanistan</td>\n",
       "      <td>AFG</td>\n",
       "      <td>2021-03-02</td>\n",
       "      <td>NaN</td>\n",
       "      <td>NaN</td>\n",
       "      <td>NaN</td>\n",
       "      <td>NaN</td>\n",
       "      <td>NaN</td>\n",
       "      <td>1794.0</td>\n",
       "      <td>NaN</td>\n",
       "      <td>NaN</td>\n",
       "      <td>NaN</td>\n",
       "      <td>NaN</td>\n",
       "      <td>46.0</td>\n",
       "      <td>3</td>\n",
       "    </tr>\n",
       "    <tr>\n",
       "      <th>9</th>\n",
       "      <td>Afghanistan</td>\n",
       "      <td>AFG</td>\n",
       "      <td>2021-03-03</td>\n",
       "      <td>NaN</td>\n",
       "      <td>NaN</td>\n",
       "      <td>NaN</td>\n",
       "      <td>NaN</td>\n",
       "      <td>NaN</td>\n",
       "      <td>2008.0</td>\n",
       "      <td>NaN</td>\n",
       "      <td>NaN</td>\n",
       "      <td>NaN</td>\n",
       "      <td>NaN</td>\n",
       "      <td>52.0</td>\n",
       "      <td>3</td>\n",
       "    </tr>\n",
       "    <tr>\n",
       "      <th>10</th>\n",
       "      <td>Afghanistan</td>\n",
       "      <td>AFG</td>\n",
       "      <td>2021-03-04</td>\n",
       "      <td>NaN</td>\n",
       "      <td>NaN</td>\n",
       "      <td>NaN</td>\n",
       "      <td>NaN</td>\n",
       "      <td>NaN</td>\n",
       "      <td>2221.0</td>\n",
       "      <td>NaN</td>\n",
       "      <td>NaN</td>\n",
       "      <td>NaN</td>\n",
       "      <td>NaN</td>\n",
       "      <td>57.0</td>\n",
       "      <td>3</td>\n",
       "    </tr>\n",
       "    <tr>\n",
       "      <th>11</th>\n",
       "      <td>Afghanistan</td>\n",
       "      <td>AFG</td>\n",
       "      <td>2021-03-05</td>\n",
       "      <td>NaN</td>\n",
       "      <td>NaN</td>\n",
       "      <td>NaN</td>\n",
       "      <td>NaN</td>\n",
       "      <td>NaN</td>\n",
       "      <td>2435.0</td>\n",
       "      <td>NaN</td>\n",
       "      <td>NaN</td>\n",
       "      <td>NaN</td>\n",
       "      <td>NaN</td>\n",
       "      <td>63.0</td>\n",
       "      <td>3</td>\n",
       "    </tr>\n",
       "    <tr>\n",
       "      <th>...</th>\n",
       "      <td>...</td>\n",
       "      <td>...</td>\n",
       "      <td>...</td>\n",
       "      <td>...</td>\n",
       "      <td>...</td>\n",
       "      <td>...</td>\n",
       "      <td>...</td>\n",
       "      <td>...</td>\n",
       "      <td>...</td>\n",
       "      <td>...</td>\n",
       "      <td>...</td>\n",
       "      <td>...</td>\n",
       "      <td>...</td>\n",
       "      <td>...</td>\n",
       "      <td>...</td>\n",
       "    </tr>\n",
       "    <tr>\n",
       "      <th>40081</th>\n",
       "      <td>Zimbabwe</td>\n",
       "      <td>ZWE</td>\n",
       "      <td>2021-03-27</td>\n",
       "      <td>73977.0</td>\n",
       "      <td>66012.0</td>\n",
       "      <td>7965.0</td>\n",
       "      <td>NaN</td>\n",
       "      <td>5769.0</td>\n",
       "      <td>4460.0</td>\n",
       "      <td>0.50</td>\n",
       "      <td>0.44</td>\n",
       "      <td>0.05</td>\n",
       "      <td>NaN</td>\n",
       "      <td>300.0</td>\n",
       "      <td>3</td>\n",
       "    </tr>\n",
       "    <tr>\n",
       "      <th>40082</th>\n",
       "      <td>Zimbabwe</td>\n",
       "      <td>ZWE</td>\n",
       "      <td>2021-03-28</td>\n",
       "      <td>79685.0</td>\n",
       "      <td>69057.0</td>\n",
       "      <td>10628.0</td>\n",
       "      <td>NaN</td>\n",
       "      <td>5708.0</td>\n",
       "      <td>5201.0</td>\n",
       "      <td>0.54</td>\n",
       "      <td>0.46</td>\n",
       "      <td>0.07</td>\n",
       "      <td>NaN</td>\n",
       "      <td>350.0</td>\n",
       "      <td>3</td>\n",
       "    </tr>\n",
       "    <tr>\n",
       "      <th>40083</th>\n",
       "      <td>Zimbabwe</td>\n",
       "      <td>ZWE</td>\n",
       "      <td>2021-03-29</td>\n",
       "      <td>82156.0</td>\n",
       "      <td>70297.0</td>\n",
       "      <td>11859.0</td>\n",
       "      <td>NaN</td>\n",
       "      <td>2471.0</td>\n",
       "      <td>5434.0</td>\n",
       "      <td>0.55</td>\n",
       "      <td>0.47</td>\n",
       "      <td>0.08</td>\n",
       "      <td>NaN</td>\n",
       "      <td>366.0</td>\n",
       "      <td>3</td>\n",
       "    </tr>\n",
       "    <tr>\n",
       "      <th>40084</th>\n",
       "      <td>Zimbabwe</td>\n",
       "      <td>ZWE</td>\n",
       "      <td>2021-03-30</td>\n",
       "      <td>86412.0</td>\n",
       "      <td>73490.0</td>\n",
       "      <td>12922.0</td>\n",
       "      <td>NaN</td>\n",
       "      <td>4256.0</td>\n",
       "      <td>5810.0</td>\n",
       "      <td>0.58</td>\n",
       "      <td>0.49</td>\n",
       "      <td>0.09</td>\n",
       "      <td>NaN</td>\n",
       "      <td>391.0</td>\n",
       "      <td>3</td>\n",
       "    </tr>\n",
       "    <tr>\n",
       "      <th>40085</th>\n",
       "      <td>Zimbabwe</td>\n",
       "      <td>ZWE</td>\n",
       "      <td>2021-03-31</td>\n",
       "      <td>92426.0</td>\n",
       "      <td>77541.0</td>\n",
       "      <td>14885.0</td>\n",
       "      <td>NaN</td>\n",
       "      <td>6014.0</td>\n",
       "      <td>5712.0</td>\n",
       "      <td>0.62</td>\n",
       "      <td>0.52</td>\n",
       "      <td>0.10</td>\n",
       "      <td>NaN</td>\n",
       "      <td>384.0</td>\n",
       "      <td>3</td>\n",
       "    </tr>\n",
       "  </tbody>\n",
       "</table>\n",
       "<p>5316 rows × 15 columns</p>\n",
       "</div>"
      ],
      "text/plain": [
       "          location iso_code       date  total_vaccinations  people_vaccinated  \\\n",
       "7      Afghanistan      AFG 2021-03-01                 NaN                NaN   \n",
       "8      Afghanistan      AFG 2021-03-02                 NaN                NaN   \n",
       "9      Afghanistan      AFG 2021-03-03                 NaN                NaN   \n",
       "10     Afghanistan      AFG 2021-03-04                 NaN                NaN   \n",
       "11     Afghanistan      AFG 2021-03-05                 NaN                NaN   \n",
       "...            ...      ...        ...                 ...                ...   \n",
       "40081     Zimbabwe      ZWE 2021-03-27             73977.0            66012.0   \n",
       "40082     Zimbabwe      ZWE 2021-03-28             79685.0            69057.0   \n",
       "40083     Zimbabwe      ZWE 2021-03-29             82156.0            70297.0   \n",
       "40084     Zimbabwe      ZWE 2021-03-30             86412.0            73490.0   \n",
       "40085     Zimbabwe      ZWE 2021-03-31             92426.0            77541.0   \n",
       "\n",
       "       people_fully_vaccinated  total_boosters  daily_vaccinations_raw  \\\n",
       "7                          NaN             NaN                     NaN   \n",
       "8                          NaN             NaN                     NaN   \n",
       "9                          NaN             NaN                     NaN   \n",
       "10                         NaN             NaN                     NaN   \n",
       "11                         NaN             NaN                     NaN   \n",
       "...                        ...             ...                     ...   \n",
       "40081                   7965.0             NaN                  5769.0   \n",
       "40082                  10628.0             NaN                  5708.0   \n",
       "40083                  11859.0             NaN                  2471.0   \n",
       "40084                  12922.0             NaN                  4256.0   \n",
       "40085                  14885.0             NaN                  6014.0   \n",
       "\n",
       "       daily_vaccinations  total_vaccinations_per_hundred  \\\n",
       "7                  1580.0                             NaN   \n",
       "8                  1794.0                             NaN   \n",
       "9                  2008.0                             NaN   \n",
       "10                 2221.0                             NaN   \n",
       "11                 2435.0                             NaN   \n",
       "...                   ...                             ...   \n",
       "40081              4460.0                            0.50   \n",
       "40082              5201.0                            0.54   \n",
       "40083              5434.0                            0.55   \n",
       "40084              5810.0                            0.58   \n",
       "40085              5712.0                            0.62   \n",
       "\n",
       "       people_vaccinated_per_hundred  people_fully_vaccinated_per_hundred  \\\n",
       "7                                NaN                                  NaN   \n",
       "8                                NaN                                  NaN   \n",
       "9                                NaN                                  NaN   \n",
       "10                               NaN                                  NaN   \n",
       "11                               NaN                                  NaN   \n",
       "...                              ...                                  ...   \n",
       "40081                           0.44                                 0.05   \n",
       "40082                           0.46                                 0.07   \n",
       "40083                           0.47                                 0.08   \n",
       "40084                           0.49                                 0.09   \n",
       "40085                           0.52                                 0.10   \n",
       "\n",
       "       total_boosters_per_hundred  daily_vaccinations_per_million  month  \n",
       "7                             NaN                            41.0      3  \n",
       "8                             NaN                            46.0      3  \n",
       "9                             NaN                            52.0      3  \n",
       "10                            NaN                            57.0      3  \n",
       "11                            NaN                            63.0      3  \n",
       "...                           ...                             ...    ...  \n",
       "40081                         NaN                           300.0      3  \n",
       "40082                         NaN                           350.0      3  \n",
       "40083                         NaN                           366.0      3  \n",
       "40084                         NaN                           391.0      3  \n",
       "40085                         NaN                           384.0      3  \n",
       "\n",
       "[5316 rows x 15 columns]"
      ]
     },
     "execution_count": 7,
     "metadata": {},
     "output_type": "execute_result"
    }
   ],
   "source": [
    "vacc_df['date'] = pd.to_datetime(vacc_df.date)\n",
    "vacc_df['month'] = pd.DatetimeIndex(vacc_df.date).month\n",
    "my_month=vacc_df[vacc_df.month ==3].copy() \n",
    "my_month"
   ]
  },
  {
   "cell_type": "code",
   "execution_count": 8,
   "metadata": {},
   "outputs": [
    {
     "data": {
      "text/plain": [
       "5316"
      ]
     },
     "execution_count": 8,
     "metadata": {},
     "output_type": "execute_result"
    }
   ],
   "source": [
    "len(my_month)"
   ]
  },
  {
   "cell_type": "markdown",
   "metadata": {},
   "source": [
    " # Q2"
   ]
  },
  {
   "cell_type": "code",
   "execution_count": 9,
   "metadata": {},
   "outputs": [
    {
     "data": {
      "text/plain": [
       "daily_vaccinations                 51\n",
       "people_vaccinated_per_hundred    2399\n",
       "dtype: int64"
      ]
     },
     "execution_count": 9,
     "metadata": {},
     "output_type": "execute_result"
    }
   ],
   "source": [
    "my_month[['daily_vaccinations','people_vaccinated_per_hundred']].isnull().sum()"
   ]
  },
  {
   "cell_type": "code",
   "execution_count": 10,
   "metadata": {},
   "outputs": [],
   "source": [
    "my_month['daily_vaccinations'].fillna(0, inplace=True)"
   ]
  },
  {
   "cell_type": "markdown",
   "metadata": {},
   "source": [
    "החלטתי לשנות את ה daily_vaccinations לאפס מכיוון שניתן לראות שהפעמים שיש ערך חסר זה יחסית קצת לכל הפעמים ולכן כנראה שזה ימים מיוחדים שלא חיסנו בהם"
   ]
  },
  {
   "cell_type": "code",
   "execution_count": 11,
   "metadata": {},
   "outputs": [
    {
     "data": {
      "text/plain": [
       "daily_vaccinations                  0\n",
       "people_vaccinated_per_hundred    2399\n",
       "dtype: int64"
      ]
     },
     "execution_count": 11,
     "metadata": {},
     "output_type": "execute_result"
    }
   ],
   "source": [
    "my_month[['daily_vaccinations','people_vaccinated_per_hundred']].isnull().sum()"
   ]
  },
  {
   "cell_type": "markdown",
   "metadata": {},
   "source": [
    "ניתן לראות שיש המון ערכים חסרים ולכן בשלב ראשון נמלא את כל הערכים החסרים של המדינות לפי הערך האחרון של כל מדינה"
   ]
  },
  {
   "cell_type": "code",
   "execution_count": 12,
   "metadata": {},
   "outputs": [],
   "source": [
    "last_value = my_month.groupby('location')[['people_vaccinated_per_hundred']].apply(lambda x: x.fillna(method='bfill'))\n",
    "my_month['people_vaccinated_per_hundred'] = last_value['people_vaccinated_per_hundred']"
   ]
  },
  {
   "cell_type": "code",
   "execution_count": 13,
   "metadata": {},
   "outputs": [
    {
     "data": {
      "text/plain": [
       "people_vaccinated_per_hundred    788\n",
       "dtype: int64"
      ]
     },
     "execution_count": 13,
     "metadata": {},
     "output_type": "execute_result"
    }
   ],
   "source": [
    "my_month[['people_vaccinated_per_hundred']].isnull().sum()"
   ]
  },
  {
   "cell_type": "markdown",
   "metadata": {},
   "source": [
    "ניתן לראות שעדיין חסרים הרבה ערכים (יכול להיות מכיוון שהערך האחרון הוא none) \n",
    "ולכן נעשה את אותו הדבר רק עם הערך הראשון של כל מדינה"
   ]
  },
  {
   "cell_type": "code",
   "execution_count": 14,
   "metadata": {},
   "outputs": [],
   "source": [
    "first_value = my_month.groupby('location')[['people_vaccinated_per_hundred']].apply(lambda x: x.fillna(method='ffill'))\n",
    "my_month['people_vaccinated_per_hundred']=first_value['people_vaccinated_per_hundred']"
   ]
  },
  {
   "cell_type": "code",
   "execution_count": 15,
   "metadata": {},
   "outputs": [
    {
     "data": {
      "text/plain": [
       "people_vaccinated_per_hundred    279\n",
       "dtype: int64"
      ]
     },
     "execution_count": 15,
     "metadata": {},
     "output_type": "execute_result"
    }
   ],
   "source": [
    "my_month[['people_vaccinated_per_hundred']].isnull().sum()"
   ]
  },
  {
   "cell_type": "markdown",
   "metadata": {},
   "source": [
    "לאחר שעשינו את זה ניתן לראות שנשארו עוד ערכים בודדים בעלי חוסר בערך  (שככל הנראה אין להם בכלל ערכים בכל המדינה) ולכן נמלא אותם באפס"
   ]
  },
  {
   "cell_type": "code",
   "execution_count": 16,
   "metadata": {},
   "outputs": [],
   "source": [
    "my_month.fillna(0, inplace=True)"
   ]
  },
  {
   "cell_type": "code",
   "execution_count": 17,
   "metadata": {},
   "outputs": [
    {
     "data": {
      "text/plain": [
       "people_vaccinated_per_hundred    0\n",
       "dtype: int64"
      ]
     },
     "execution_count": 17,
     "metadata": {},
     "output_type": "execute_result"
    }
   ],
   "source": [
    "my_month[['people_vaccinated_per_hundred']].isnull().sum()"
   ]
  },
  {
   "cell_type": "markdown",
   "metadata": {},
   "source": [
    "# Q3"
   ]
  },
  {
   "cell_type": "code",
   "execution_count": 18,
   "metadata": {},
   "outputs": [],
   "source": [
    "my_month = my_month[~my_month['iso_code'].str.contains('OWID')].copy()"
   ]
  },
  {
   "cell_type": "code",
   "execution_count": 19,
   "metadata": {},
   "outputs": [
    {
     "data": {
      "text/html": [
       "<div>\n",
       "<style scoped>\n",
       "    .dataframe tbody tr th:only-of-type {\n",
       "        vertical-align: middle;\n",
       "    }\n",
       "\n",
       "    .dataframe tbody tr th {\n",
       "        vertical-align: top;\n",
       "    }\n",
       "\n",
       "    .dataframe thead th {\n",
       "        text-align: right;\n",
       "    }\n",
       "</style>\n",
       "<table border=\"1\" class=\"dataframe\">\n",
       "  <thead>\n",
       "    <tr style=\"text-align: right;\">\n",
       "      <th></th>\n",
       "      <th>location</th>\n",
       "      <th>date</th>\n",
       "    </tr>\n",
       "  </thead>\n",
       "  <tbody>\n",
       "    <tr>\n",
       "      <th>38169</th>\n",
       "      <td>United States</td>\n",
       "      <td>2021-03-31</td>\n",
       "    </tr>\n",
       "  </tbody>\n",
       "</table>\n",
       "</div>"
      ],
      "text/plain": [
       "            location       date\n",
       "38169  United States 2021-03-31"
      ]
     },
     "execution_count": 19,
     "metadata": {},
     "output_type": "execute_result"
    }
   ],
   "source": [
    "max_vacc= my_month['total_vaccinations'].max()\n",
    "max_country=my_month.loc[my_month.total_vaccinations == max_vacc]\n",
    "max_country[['location','date']]"
   ]
  },
  {
   "cell_type": "markdown",
   "metadata": {},
   "source": [
    "# Q4"
   ]
  },
  {
   "cell_type": "code",
   "execution_count": 20,
   "metadata": {},
   "outputs": [
    {
     "data": {
      "text/plain": [
       "66398.18495297806"
      ]
     },
     "execution_count": 20,
     "metadata": {},
     "output_type": "execute_result"
    }
   ],
   "source": [
    "my_month['daily_vaccinations'].mean()"
   ]
  },
  {
   "cell_type": "code",
   "execution_count": 21,
   "metadata": {},
   "outputs": [
    {
     "data": {
      "text/plain": [
       "4621.0"
      ]
     },
     "execution_count": 21,
     "metadata": {},
     "output_type": "execute_result"
    }
   ],
   "source": [
    "my_month['daily_vaccinations'].median() "
   ]
  },
  {
   "cell_type": "markdown",
   "metadata": {},
   "source": [
    "הממוצע יותר גדול מכיוון שיש מדינות שמחסנות המון אנשים כל יום (בפער גדול מאוד מהשאר) ולכן זה מעלה מאוד את הממוצע. לעומת החציון שמביא את המספר האמצעי של החיסונים\n"
   ]
  },
  {
   "cell_type": "markdown",
   "metadata": {},
   "source": [
    "# Q5"
   ]
  },
  {
   "cell_type": "code",
   "execution_count": 22,
   "metadata": {},
   "outputs": [],
   "source": [
    "my_month['date'] = pd.to_datetime(my_month.date)\n",
    "my_month['day'] = pd.DatetimeIndex(my_month.date).day"
   ]
  },
  {
   "cell_type": "code",
   "execution_count": 23,
   "metadata": {},
   "outputs": [],
   "source": [
    "mean_vacc=my_month.loc[(my_month.location == 'Israel') & (my_month.day<8)]"
   ]
  },
  {
   "cell_type": "code",
   "execution_count": 24,
   "metadata": {},
   "outputs": [
    {
     "data": {
      "text/plain": [
       "56.21999999999999"
      ]
     },
     "execution_count": 24,
     "metadata": {},
     "output_type": "execute_result"
    }
   ],
   "source": [
    "mean_vacc['people_vaccinated_per_hundred'].mean()"
   ]
  },
  {
   "cell_type": "markdown",
   "metadata": {},
   "source": [
    "# Q6"
   ]
  },
  {
   "cell_type": "code",
   "execution_count": 25,
   "metadata": {},
   "outputs": [
    {
     "data": {
      "text/html": [
       "<div>\n",
       "<style scoped>\n",
       "    .dataframe tbody tr th:only-of-type {\n",
       "        vertical-align: middle;\n",
       "    }\n",
       "\n",
       "    .dataframe tbody tr th {\n",
       "        vertical-align: top;\n",
       "    }\n",
       "\n",
       "    .dataframe thead th {\n",
       "        text-align: right;\n",
       "    }\n",
       "</style>\n",
       "<table border=\"1\" class=\"dataframe\">\n",
       "  <thead>\n",
       "    <tr style=\"text-align: right;\">\n",
       "      <th></th>\n",
       "      <th>location</th>\n",
       "      <th>month</th>\n",
       "      <th>people_vaccinated_per_hundred</th>\n",
       "    </tr>\n",
       "    <tr>\n",
       "      <th>location</th>\n",
       "      <th></th>\n",
       "      <th></th>\n",
       "      <th></th>\n",
       "    </tr>\n",
       "  </thead>\n",
       "  <tbody>\n",
       "    <tr>\n",
       "      <th>Gibraltar</th>\n",
       "      <td>Gibraltar</td>\n",
       "      <td>3</td>\n",
       "      <td>94.21</td>\n",
       "    </tr>\n",
       "    <tr>\n",
       "      <th>Saint Helena</th>\n",
       "      <td>Saint Helena</td>\n",
       "      <td>3</td>\n",
       "      <td>71.55</td>\n",
       "    </tr>\n",
       "    <tr>\n",
       "      <th>Seychelles</th>\n",
       "      <td>Seychelles</td>\n",
       "      <td>3</td>\n",
       "      <td>64.76</td>\n",
       "    </tr>\n",
       "  </tbody>\n",
       "</table>\n",
       "</div>"
      ],
      "text/plain": [
       "                  location  month  people_vaccinated_per_hundred\n",
       "location                                                        \n",
       "Gibraltar        Gibraltar      3                          94.21\n",
       "Saint Helena  Saint Helena      3                          71.55\n",
       "Seychelles      Seychelles      3                          64.76"
      ]
     },
     "execution_count": 25,
     "metadata": {},
     "output_type": "execute_result"
    }
   ],
   "source": [
    "max_people= my_month.groupby('location')[['location','month','people_vaccinated_per_hundred']].max()\n",
    "top_3= max_people.sort_values('people_vaccinated_per_hundred',ascending=False)\n",
    "top_3.head(3)"
   ]
  },
  {
   "cell_type": "markdown",
   "metadata": {},
   "source": [
    "# Q7"
   ]
  },
  {
   "cell_type": "code",
   "execution_count": null,
   "metadata": {},
   "outputs": [],
   "source": []
  },
  {
   "cell_type": "markdown",
   "metadata": {},
   "source": [
    "---\n",
    "# GOOD LUCK !!!!\n",
    "---"
   ]
  },
  {
   "cell_type": "code",
   "execution_count": null,
   "metadata": {},
   "outputs": [],
   "source": [
    "# do not type below this line"
   ]
  }
 ],
 "metadata": {
  "kernelspec": {
   "display_name": "Python 3 (ipykernel)",
   "language": "python",
   "name": "python3"
  },
  "language_info": {
   "codemirror_mode": {
    "name": "ipython",
    "version": 3
   },
   "file_extension": ".py",
   "mimetype": "text/x-python",
   "name": "python",
   "nbconvert_exporter": "python",
   "pygments_lexer": "ipython3",
   "version": "3.9.6"
  }
 },
 "nbformat": 4,
 "nbformat_minor": 4
}
